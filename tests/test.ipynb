{
 "cells": [
  {
   "cell_type": "code",
   "execution_count": 1,
   "metadata": {},
   "outputs": [
    {
     "data": {
      "text/html": [
       "<div>\n",
       "<style scoped>\n",
       "    .dataframe tbody tr th:only-of-type {\n",
       "        vertical-align: middle;\n",
       "    }\n",
       "\n",
       "    .dataframe tbody tr th {\n",
       "        vertical-align: top;\n",
       "    }\n",
       "\n",
       "    .dataframe thead th {\n",
       "        text-align: right;\n",
       "    }\n",
       "</style>\n",
       "<table border=\"1\" class=\"dataframe\">\n",
       "  <thead>\n",
       "    <tr style=\"text-align: right;\">\n",
       "      <th></th>\n",
       "      <th>kingdom</th>\n",
       "      <th>phylum</th>\n",
       "      <th>class</th>\n",
       "      <th>order</th>\n",
       "      <th>family</th>\n",
       "      <th>genus</th>\n",
       "      <th>species</th>\n",
       "      <th>type</th>\n",
       "      <th>label</th>\n",
       "    </tr>\n",
       "  </thead>\n",
       "  <tbody>\n",
       "    <tr>\n",
       "      <th>0</th>\n",
       "      <td>Animalia</td>\n",
       "      <td>Arthropoda</td>\n",
       "      <td>Malacostraca</td>\n",
       "      <td>Isopoda</td>\n",
       "      <td>Asellidae</td>\n",
       "      <td>Asellus</td>\n",
       "      <td>NaN</td>\n",
       "      <td>NaN</td>\n",
       "      <td>As</td>\n",
       "    </tr>\n",
       "    <tr>\n",
       "      <th>1</th>\n",
       "      <td>Animalia</td>\n",
       "      <td>Arthropoda</td>\n",
       "      <td>Malacostraca</td>\n",
       "      <td>Isopoda</td>\n",
       "      <td>Asellidae</td>\n",
       "      <td>Asellus</td>\n",
       "      <td>Asellus aquaticus</td>\n",
       "      <td>NaN</td>\n",
       "      <td>Asellus_aquaticus</td>\n",
       "    </tr>\n",
       "    <tr>\n",
       "      <th>2</th>\n",
       "      <td>Animalia</td>\n",
       "      <td>Arthropoda</td>\n",
       "      <td>Malacostraca</td>\n",
       "      <td>Isopoda</td>\n",
       "      <td>Asellidae</td>\n",
       "      <td>Asellus</td>\n",
       "      <td>Asellus aquaticus</td>\n",
       "      <td>NaN</td>\n",
       "      <td>Asellus aquaticus</td>\n",
       "    </tr>\n",
       "    <tr>\n",
       "      <th>3</th>\n",
       "      <td>Animalia</td>\n",
       "      <td>Arthropoda</td>\n",
       "      <td>Insecta</td>\n",
       "      <td>Ephemeroptera</td>\n",
       "      <td>Caenidae</td>\n",
       "      <td>Caenis</td>\n",
       "      <td>Caenis horaria</td>\n",
       "      <td>NaN</td>\n",
       "      <td>Caenis_horaria</td>\n",
       "    </tr>\n",
       "    <tr>\n",
       "      <th>4</th>\n",
       "      <td>Animalia</td>\n",
       "      <td>Arthropoda</td>\n",
       "      <td>Insecta</td>\n",
       "      <td>Ephemeroptera</td>\n",
       "      <td>Caenidae</td>\n",
       "      <td>Caenis</td>\n",
       "      <td>Caenis luctuosa</td>\n",
       "      <td>NaN</td>\n",
       "      <td>Caenis_luctuosa</td>\n",
       "    </tr>\n",
       "    <tr>\n",
       "      <th>5</th>\n",
       "      <td>Animalia</td>\n",
       "      <td>Arthropoda</td>\n",
       "      <td>Insecta</td>\n",
       "      <td>Ephemeroptera</td>\n",
       "      <td>Caenidae</td>\n",
       "      <td>Caenis</td>\n",
       "      <td>Caenis rivulorum</td>\n",
       "      <td>NaN</td>\n",
       "      <td>Caenis_rivulorum</td>\n",
       "    </tr>\n",
       "    <tr>\n",
       "      <th>6</th>\n",
       "      <td>Animalia</td>\n",
       "      <td>Arthropoda</td>\n",
       "      <td>Insecta</td>\n",
       "      <td>Ephemeroptera</td>\n",
       "      <td>Baetidae</td>\n",
       "      <td>NaN</td>\n",
       "      <td>NaN</td>\n",
       "      <td>NaN</td>\n",
       "      <td>Baetidae</td>\n",
       "    </tr>\n",
       "    <tr>\n",
       "      <th>7</th>\n",
       "      <td>Animalia</td>\n",
       "      <td>Arthropoda</td>\n",
       "      <td>Insecta</td>\n",
       "      <td>Ephemeroptera</td>\n",
       "      <td>Baetidae</td>\n",
       "      <td>Cloeon</td>\n",
       "      <td>Cloeon dipterum</td>\n",
       "      <td>NaN</td>\n",
       "      <td>Cloeon_dipterum</td>\n",
       "    </tr>\n",
       "    <tr>\n",
       "      <th>8</th>\n",
       "      <td>Animalia</td>\n",
       "      <td>Arthropoda</td>\n",
       "      <td>Insecta</td>\n",
       "      <td>Trichoptera</td>\n",
       "      <td>Polycentropodidae</td>\n",
       "      <td>Cyrnus</td>\n",
       "      <td>Cyrnus trimaculatus</td>\n",
       "      <td>NaN</td>\n",
       "      <td>Cyrnus_trimaculatus</td>\n",
       "    </tr>\n",
       "    <tr>\n",
       "      <th>9</th>\n",
       "      <td>Animalia</td>\n",
       "      <td>Arthropoda</td>\n",
       "      <td>Insecta</td>\n",
       "      <td>Coleoptera</td>\n",
       "      <td>Elmidae</td>\n",
       "      <td>Oulimnius</td>\n",
       "      <td>Oulimnius tuberculatus</td>\n",
       "      <td>Oulimnius tuberculatus larva</td>\n",
       "      <td>Oulimnius_tuberculatus</td>\n",
       "    </tr>\n",
       "    <tr>\n",
       "      <th>10</th>\n",
       "      <td>Animalia</td>\n",
       "      <td>Arthropoda</td>\n",
       "      <td>Insecta</td>\n",
       "      <td>Coleoptera</td>\n",
       "      <td>Elmidae</td>\n",
       "      <td>Oulimnius</td>\n",
       "      <td>Oulimnius tuberculatus</td>\n",
       "      <td>Oulimnius tuberculatus adult</td>\n",
       "      <td>Oulimnius_tuberculatus_adult</td>\n",
       "    </tr>\n",
       "    <tr>\n",
       "      <th>11</th>\n",
       "      <td>Animalia</td>\n",
       "      <td>Arthropoda</td>\n",
       "      <td>Insecta</td>\n",
       "      <td>Coleoptera</td>\n",
       "      <td>Elmidae</td>\n",
       "      <td>Oulimnius</td>\n",
       "      <td>Oulimnius tuberculatus</td>\n",
       "      <td>Oulimnius tuberculatus larva</td>\n",
       "      <td>Oulimnius_tuberculatus_larv</td>\n",
       "    </tr>\n",
       "    <tr>\n",
       "      <th>12</th>\n",
       "      <td>Animalia</td>\n",
       "      <td>Arthropoda</td>\n",
       "      <td>Insecta</td>\n",
       "      <td>Trichoptera</td>\n",
       "      <td>Polycentropodidae</td>\n",
       "      <td>Polycentropus</td>\n",
       "      <td>Polycentropus flavomaculatus</td>\n",
       "      <td>NaN</td>\n",
       "      <td>Polycentropus_flavomaculatus</td>\n",
       "    </tr>\n",
       "    <tr>\n",
       "      <th>13</th>\n",
       "      <td>Animalia</td>\n",
       "      <td>Mollusca</td>\n",
       "      <td>Gastropoda</td>\n",
       "      <td>Hygrophila</td>\n",
       "      <td>Lymnaeidae</td>\n",
       "      <td>Radix</td>\n",
       "      <td>Radix balthica</td>\n",
       "      <td>NaN</td>\n",
       "      <td>RaBa</td>\n",
       "    </tr>\n",
       "  </tbody>\n",
       "</table>\n",
       "</div>"
      ],
      "text/plain": [
       "     kingdom      phylum         class          order             family  \\\n",
       "0   Animalia  Arthropoda  Malacostraca        Isopoda          Asellidae   \n",
       "1   Animalia  Arthropoda  Malacostraca        Isopoda          Asellidae   \n",
       "2   Animalia  Arthropoda  Malacostraca        Isopoda          Asellidae   \n",
       "3   Animalia  Arthropoda       Insecta  Ephemeroptera           Caenidae   \n",
       "4   Animalia  Arthropoda       Insecta  Ephemeroptera           Caenidae   \n",
       "5   Animalia  Arthropoda       Insecta  Ephemeroptera           Caenidae   \n",
       "6   Animalia  Arthropoda       Insecta  Ephemeroptera           Baetidae   \n",
       "7   Animalia  Arthropoda       Insecta  Ephemeroptera           Baetidae   \n",
       "8   Animalia  Arthropoda       Insecta    Trichoptera  Polycentropodidae   \n",
       "9   Animalia  Arthropoda       Insecta     Coleoptera            Elmidae   \n",
       "10  Animalia  Arthropoda       Insecta     Coleoptera            Elmidae   \n",
       "11  Animalia  Arthropoda       Insecta     Coleoptera            Elmidae   \n",
       "12  Animalia  Arthropoda       Insecta    Trichoptera  Polycentropodidae   \n",
       "13  Animalia    Mollusca    Gastropoda     Hygrophila         Lymnaeidae   \n",
       "\n",
       "            genus                       species                          type  \\\n",
       "0         Asellus                           NaN                           NaN   \n",
       "1         Asellus             Asellus aquaticus                           NaN   \n",
       "2         Asellus             Asellus aquaticus                           NaN   \n",
       "3          Caenis                Caenis horaria                           NaN   \n",
       "4          Caenis               Caenis luctuosa                           NaN   \n",
       "5          Caenis              Caenis rivulorum                           NaN   \n",
       "6             NaN                           NaN                           NaN   \n",
       "7          Cloeon               Cloeon dipterum                           NaN   \n",
       "8          Cyrnus           Cyrnus trimaculatus                           NaN   \n",
       "9       Oulimnius        Oulimnius tuberculatus  Oulimnius tuberculatus larva   \n",
       "10      Oulimnius        Oulimnius tuberculatus  Oulimnius tuberculatus adult   \n",
       "11      Oulimnius        Oulimnius tuberculatus  Oulimnius tuberculatus larva   \n",
       "12  Polycentropus  Polycentropus flavomaculatus                           NaN   \n",
       "13          Radix                Radix balthica                           NaN   \n",
       "\n",
       "                           label  \n",
       "0                             As  \n",
       "1              Asellus_aquaticus  \n",
       "2              Asellus aquaticus  \n",
       "3                 Caenis_horaria  \n",
       "4                Caenis_luctuosa  \n",
       "5               Caenis_rivulorum  \n",
       "6                       Baetidae  \n",
       "7                Cloeon_dipterum  \n",
       "8            Cyrnus_trimaculatus  \n",
       "9         Oulimnius_tuberculatus  \n",
       "10  Oulimnius_tuberculatus_adult  \n",
       "11   Oulimnius_tuberculatus_larv  \n",
       "12  Polycentropus_flavomaculatus  \n",
       "13                          RaBa  "
      ]
     },
     "execution_count": 1,
     "metadata": {},
     "output_type": "execute_result"
    }
   ],
   "source": [
    "import importlib\n",
    "import tiers\n",
    "importlib.reload(tiers)\n",
    "import pandas as pd\n",
    "\n",
    "df_basic = pd.read_csv(\"data/taxa_table.csv\")\n",
    "df_basic"
   ]
  },
  {
   "cell_type": "code",
   "execution_count": 2,
   "metadata": {},
   "outputs": [
    {
     "name": "stdout",
     "output_type": "stream",
     "text": [
      "Animalia\n",
      "├── Arthropoda\n",
      "│   ├── Malacostraca\n",
      "│   │   └── Isopoda\n",
      "│   │       └── Asellidae\n",
      "│   │           └── Asellus\n",
      "│   │               └── Asellus aquaticus\n",
      "│   └── Insecta\n",
      "│       ├── Ephemeroptera\n",
      "│       │   ├── Caenidae\n",
      "│       │   │   └── Caenis\n",
      "│       │   │       ├── Caenis horaria\n",
      "│       │   │       ├── Caenis luctuosa\n",
      "│       │   │       └── Caenis rivulorum\n",
      "│       │   └── Baetidae\n",
      "│       │       └── Cloeon\n",
      "│       │           └── Cloeon dipterum\n",
      "│       ├── Trichoptera\n",
      "│       │   └── Polycentropodidae\n",
      "│       │       ├── Cyrnus\n",
      "│       │       │   └── Cyrnus trimaculatus\n",
      "│       │       └── Polycentropus\n",
      "│       │           └── Polycentropus flavomaculatus\n",
      "│       └── Coleoptera\n",
      "│           └── Elmidae\n",
      "│               └── Oulimnius\n",
      "│                   └── Oulimnius tuberculatus\n",
      "│                       ├── Oulimnius tuberculatus larva\n",
      "│                       └── Oulimnius tuberculatus adult\n",
      "└── Mollusca\n",
      "    └── Gastropoda\n",
      "        └── Hygrophila\n",
      "            └── Lymnaeidae\n",
      "                └── Radix\n",
      "                    └── Radix balthica\n"
     ]
    }
   ],
   "source": [
    "tree = tiers.Tree.from_dataframe(df_basic)\n",
    "tree.show()"
   ]
  },
  {
   "cell_type": "code",
   "execution_count": 3,
   "metadata": {},
   "outputs": [
    {
     "name": "stdout",
     "output_type": "stream",
     "text": [
      "Animalia\n",
      "├── Arthropoda\n",
      "│   ├── Malacostraca\n",
      "│   └── Insecta\n",
      "│       ├── Ephemeroptera\n",
      "│       │   ├── Caenidae\n",
      "│       │   │   └── Caenis\n",
      "│       │   │       ├── Caenis horaria\n",
      "│       │   │       ├── Caenis luctuosa\n",
      "│       │   │       └── Caenis rivulorum\n",
      "│       │   └── Baetidae\n",
      "│       ├── Trichoptera\n",
      "│       │   └── Polycentropodidae\n",
      "│       │       ├── Cyrnus\n",
      "│       │       └── Polycentropus\n",
      "│       └── Coleoptera\n",
      "│           └── Elmidae\n",
      "│               └── Oulimnius\n",
      "│                   └── Oulimnius tuberculatus\n",
      "│                       ├── Oulimnius tuberculatus larva\n",
      "│                       └── Oulimnius tuberculatus adult\n",
      "└── Mollusca\n"
     ]
    }
   ],
   "source": [
    "tree.show_simple()"
   ]
  },
  {
   "cell_type": "code",
   "execution_count": 4,
   "metadata": {},
   "outputs": [
    {
     "data": {
      "text/plain": [
       "'Asellus'"
      ]
     },
     "execution_count": 4,
     "metadata": {},
     "output_type": "execute_result"
    }
   ],
   "source": [
    "tree.map(\"As\")"
   ]
  },
  {
   "cell_type": "code",
   "execution_count": 5,
   "metadata": {},
   "outputs": [
    {
     "data": {
      "text/plain": [
       "'Caenis'"
      ]
     },
     "execution_count": 5,
     "metadata": {},
     "output_type": "execute_result"
    }
   ],
   "source": [
    "tree.map(\"Caenis\")"
   ]
  },
  {
   "cell_type": "code",
   "execution_count": 6,
   "metadata": {},
   "outputs": [
    {
     "ename": "KeyError",
     "evalue": "'Trying to get an nonexistent node alsdk. Perhaps you are trying to find a label?'",
     "output_type": "error",
     "traceback": [
      "\u001b[1;31m---------------------------------------------------------------------------\u001b[0m",
      "\u001b[1;31mKeyError\u001b[0m                                  Traceback (most recent call last)",
      "Cell \u001b[1;32mIn[6], line 1\u001b[0m\n\u001b[1;32m----> 1\u001b[0m \u001b[43mtree\u001b[49m\u001b[38;5;241;43m.\u001b[39;49m\u001b[43mmap\u001b[49m\u001b[43m(\u001b[49m\u001b[38;5;124;43m\"\u001b[39;49m\u001b[38;5;124;43malsdk\u001b[39;49m\u001b[38;5;124;43m\"\u001b[39;49m\u001b[43m)\u001b[49m\n",
      "File \u001b[1;32mD:\\koodia\\tiers\\src\\tiers\\__init__.py:400\u001b[0m, in \u001b[0;36mTree.map\u001b[1;34m(self, labels, level, strict, nodes)\u001b[0m\n\u001b[0;32m    398\u001b[0m             \u001b[38;5;28;01mreturn\u001b[39;00m node\u001b[38;5;241m.\u001b[39mname\n\u001b[0;32m    399\u001b[0m     \u001b[38;5;28;01mexcept\u001b[39;00m \u001b[38;5;167;01mException\u001b[39;00m \u001b[38;5;28;01mas\u001b[39;00m e:\n\u001b[1;32m--> 400\u001b[0m         \u001b[38;5;28;01mraise\u001b[39;00m e\n\u001b[0;32m    401\u001b[0m \u001b[38;5;28;01melse\u001b[39;00m:\n\u001b[0;32m    402\u001b[0m     \u001b[38;5;28;01mreturn\u001b[39;00m [\u001b[38;5;28mself\u001b[39m\u001b[38;5;241m.\u001b[39mmap(l, level\u001b[38;5;241m=\u001b[39mlevel, strict\u001b[38;5;241m=\u001b[39mstrict, nodes\u001b[38;5;241m=\u001b[39mnodes) \u001b[38;5;28;01mfor\u001b[39;00m l \u001b[38;5;129;01min\u001b[39;00m labels]\n",
      "File \u001b[1;32mD:\\koodia\\tiers\\src\\tiers\\__init__.py:382\u001b[0m, in \u001b[0;36mTree.map\u001b[1;34m(self, labels, level, strict, nodes)\u001b[0m\n\u001b[0;32m    380\u001b[0m \u001b[38;5;28;01mif\u001b[39;00m target_level \u001b[38;5;241m==\u001b[39m \u001b[38;5;241m-\u001b[39m\u001b[38;5;241m1\u001b[39m:\n\u001b[0;32m    381\u001b[0m     \u001b[38;5;28;01mif\u001b[39;00m \u001b[38;5;129;01mnot\u001b[39;00m nodes:\n\u001b[1;32m--> 382\u001b[0m         \u001b[38;5;28;01mreturn\u001b[39;00m \u001b[38;5;28;43mself\u001b[39;49m\u001b[38;5;241;43m.\u001b[39;49m\u001b[43mstring2node\u001b[49m\u001b[43m(\u001b[49m\u001b[43mlabels\u001b[49m\u001b[43m)\u001b[49m\u001b[38;5;241m.\u001b[39mname\n\u001b[0;32m    383\u001b[0m     \u001b[38;5;28;01mreturn\u001b[39;00m \u001b[38;5;28mself\u001b[39m\u001b[38;5;241m.\u001b[39mget_node(labels)\u001b[38;5;241m.\u001b[39mname \u001b[38;5;66;03m# In case labels is a node string\u001b[39;00m\n\u001b[0;32m    385\u001b[0m \u001b[38;5;28;01melse\u001b[39;00m: \u001b[38;5;66;03m# We need to traverse the tree \u001b[39;00m\n",
      "File \u001b[1;32mD:\\koodia\\tiers\\src\\tiers\\__init__.py:315\u001b[0m, in \u001b[0;36mTree.string2node\u001b[1;34m(self, s)\u001b[0m\n\u001b[0;32m    313\u001b[0m \u001b[38;5;28;01mif\u001b[39;00m s \u001b[38;5;129;01min\u001b[39;00m \u001b[38;5;28mself\u001b[39m\u001b[38;5;241m.\u001b[39mlabel_map\u001b[38;5;241m.\u001b[39mkeys():\n\u001b[0;32m    314\u001b[0m     \u001b[38;5;28;01mreturn\u001b[39;00m \u001b[38;5;28mself\u001b[39m\u001b[38;5;241m.\u001b[39mlabel2node(s)\n\u001b[1;32m--> 315\u001b[0m \u001b[38;5;28;01mreturn\u001b[39;00m \u001b[38;5;28;43mself\u001b[39;49m\u001b[38;5;241;43m.\u001b[39;49m\u001b[43mget_node\u001b[49m\u001b[43m(\u001b[49m\u001b[43ms\u001b[49m\u001b[43m)\u001b[49m\n",
      "File \u001b[1;32mD:\\koodia\\tiers\\src\\tiers\\__init__.py:299\u001b[0m, in \u001b[0;36mTree.get_node\u001b[1;34m(self, node)\u001b[0m\n\u001b[0;32m    297\u001b[0m \u001b[38;5;250m\u001b[39m\u001b[38;5;124;03m\"\"\"Returns a node by a name. Node must be in nodes, not in labels\"\"\"\u001b[39;00m\n\u001b[0;32m    298\u001b[0m \u001b[38;5;28;01mif\u001b[39;00m node \u001b[38;5;129;01mnot\u001b[39;00m \u001b[38;5;129;01min\u001b[39;00m \u001b[38;5;28mself\u001b[39m\u001b[38;5;241m.\u001b[39mnodes:\n\u001b[1;32m--> 299\u001b[0m     \u001b[38;5;28;01mraise\u001b[39;00m \u001b[38;5;167;01mKeyError\u001b[39;00m(\u001b[38;5;124mf\u001b[39m\u001b[38;5;124m\"\u001b[39m\u001b[38;5;124mTrying to get an nonexistent node \u001b[39m\u001b[38;5;132;01m{\u001b[39;00mnode\u001b[38;5;132;01m}\u001b[39;00m\u001b[38;5;124m. Perhaps you are trying to find a label?\u001b[39m\u001b[38;5;124m\"\u001b[39m)\n\u001b[0;32m    300\u001b[0m \u001b[38;5;28;01mreturn\u001b[39;00m bigtree\u001b[38;5;241m.\u001b[39mfind_name(\u001b[38;5;28mself\u001b[39m\u001b[38;5;241m.\u001b[39mroot, node)\n",
      "\u001b[1;31mKeyError\u001b[0m: 'Trying to get an nonexistent node alsdk. Perhaps you are trying to find a label?'"
     ]
    }
   ],
   "source": [
    "tree.map(\"alsdk\")"
   ]
  },
  {
   "cell_type": "code",
   "execution_count": 7,
   "metadata": {},
   "outputs": [
    {
     "ename": "ValueError",
     "evalue": "A level column cannot be named 'leaf'",
     "output_type": "error",
     "traceback": [
      "\u001b[1;31m---------------------------------------------------------------------------\u001b[0m",
      "\u001b[1;31mValueError\u001b[0m                                Traceback (most recent call last)",
      "Cell \u001b[1;32mIn[7], line 4\u001b[0m\n\u001b[0;32m      1\u001b[0m df_leaf_in_cols \u001b[38;5;241m=\u001b[39m pd\u001b[38;5;241m.\u001b[39mread_csv(\u001b[38;5;124m\"\u001b[39m\u001b[38;5;124mdata/leaf_in_cols.csv\u001b[39m\u001b[38;5;124m\"\u001b[39m)\n\u001b[0;32m      2\u001b[0m df_simple_in_cols \u001b[38;5;241m=\u001b[39m pd\u001b[38;5;241m.\u001b[39mread_csv(\u001b[38;5;124m\"\u001b[39m\u001b[38;5;124mdata/simple_in_cols.csv\u001b[39m\u001b[38;5;124m\"\u001b[39m)\n\u001b[1;32m----> 4\u001b[0m tree \u001b[38;5;241m=\u001b[39m \u001b[43mtiers\u001b[49m\u001b[38;5;241;43m.\u001b[39;49m\u001b[43mTree\u001b[49m\u001b[38;5;241;43m.\u001b[39;49m\u001b[43mfrom_dataframe\u001b[49m\u001b[43m(\u001b[49m\u001b[43mdf_leaf_in_cols\u001b[49m\u001b[43m)\u001b[49m\n",
      "File \u001b[1;32mD:\\koodia\\tiers\\src\\tiers\\__init__.py:248\u001b[0m, in \u001b[0;36mTree.from_dataframe\u001b[1;34m(cls, df, node_remapping, set_root)\u001b[0m\n\u001b[0;32m    246\u001b[0m z \u001b[38;5;241m=\u001b[39m \u001b[38;5;28mzip\u001b[39m(labels\u001b[38;5;241m.\u001b[39mvalues\u001b[38;5;241m.\u001b[39mtolist(), leaves\u001b[38;5;241m.\u001b[39mvalues\u001b[38;5;241m.\u001b[39mtolist())\n\u001b[0;32m    247\u001b[0m label_map \u001b[38;5;241m=\u001b[39m {label: value \u001b[38;5;28;01mfor\u001b[39;00m label,value \u001b[38;5;129;01min\u001b[39;00m z}\n\u001b[1;32m--> 248\u001b[0m \u001b[38;5;28;01mreturn\u001b[39;00m \u001b[38;5;28;43mcls\u001b[39;49m\u001b[43m(\u001b[49m\u001b[43mdf\u001b[49m\u001b[38;5;241;43m=\u001b[39;49m\u001b[43mtree_df\u001b[49m\u001b[43m,\u001b[49m\n\u001b[0;32m    249\u001b[0m \u001b[43m           \u001b[49m\u001b[43mlabel_map\u001b[49m\u001b[38;5;241;43m=\u001b[39;49m\u001b[43mlabel_map\u001b[49m\u001b[43m,\u001b[49m\n\u001b[0;32m    250\u001b[0m \u001b[43m           \u001b[49m\u001b[43mnode_remapping\u001b[49m\u001b[38;5;241;43m=\u001b[39;49m\u001b[43mnode_remapping\u001b[49m\u001b[43m,\u001b[49m\n\u001b[0;32m    251\u001b[0m \u001b[43m           \u001b[49m\u001b[43mset_root\u001b[49m\u001b[38;5;241;43m=\u001b[39;49m\u001b[43mset_root\u001b[49m\u001b[43m)\u001b[49m\n",
      "File \u001b[1;32mD:\\koodia\\tiers\\src\\tiers\\__init__.py:208\u001b[0m, in \u001b[0;36mTree.__init__\u001b[1;34m(self, df, label_map, node_remapping, set_root)\u001b[0m\n\u001b[0;32m    206\u001b[0m \u001b[38;5;28mself\u001b[39m\u001b[38;5;241m.\u001b[39mlevels \u001b[38;5;241m=\u001b[39m df\u001b[38;5;241m.\u001b[39mcolumns\u001b[38;5;241m.\u001b[39mtolist()\n\u001b[0;32m    207\u001b[0m \u001b[38;5;28mself\u001b[39m\u001b[38;5;241m.\u001b[39mlevels_sortable \u001b[38;5;241m=\u001b[39m [\u001b[38;5;124mf\u001b[39m\u001b[38;5;124m\"\u001b[39m\u001b[38;5;132;01m{\u001b[39;00mi\u001b[38;5;132;01m:\u001b[39;00m\u001b[38;5;124m02d\u001b[39m\u001b[38;5;132;01m}\u001b[39;00m\u001b[38;5;124m_\u001b[39m\u001b[38;5;132;01m{\u001b[39;00ms\u001b[38;5;132;01m}\u001b[39;00m\u001b[38;5;124m\"\u001b[39m \u001b[38;5;28;01mfor\u001b[39;00m i,s \u001b[38;5;129;01min\u001b[39;00m \u001b[38;5;28menumerate\u001b[39m(\u001b[38;5;28mself\u001b[39m\u001b[38;5;241m.\u001b[39mlevels)]\n\u001b[1;32m--> 208\u001b[0m \u001b[38;5;28;01mif\u001b[39;00m \u001b[38;5;124m\"\u001b[39m\u001b[38;5;124mleaf\u001b[39m\u001b[38;5;124m\"\u001b[39m \u001b[38;5;129;01min\u001b[39;00m \u001b[38;5;28mself\u001b[39m\u001b[38;5;241m.\u001b[39mlevels: \u001b[38;5;28;01mraise\u001b[39;00m \u001b[38;5;167;01mValueError\u001b[39;00m(\u001b[38;5;124m\"\u001b[39m\u001b[38;5;124mA level column cannot be named \u001b[39m\u001b[38;5;124m'\u001b[39m\u001b[38;5;124mleaf\u001b[39m\u001b[38;5;124m'\u001b[39m\u001b[38;5;124m\"\u001b[39m)\n\u001b[0;32m    209\u001b[0m \u001b[38;5;28;01mif\u001b[39;00m \u001b[38;5;124m\"\u001b[39m\u001b[38;5;124msimple\u001b[39m\u001b[38;5;124m\"\u001b[39m \u001b[38;5;129;01min\u001b[39;00m \u001b[38;5;28mself\u001b[39m\u001b[38;5;241m.\u001b[39mlevels: \u001b[38;5;28;01mraise\u001b[39;00m \u001b[38;5;167;01mValueError\u001b[39;00m(\u001b[38;5;124m\"\u001b[39m\u001b[38;5;124mA level column cannot be named \u001b[39m\u001b[38;5;124m'\u001b[39m\u001b[38;5;124msimple\u001b[39m\u001b[38;5;124m'\u001b[39m\u001b[38;5;124m\"\u001b[39m)\n\u001b[0;32m    211\u001b[0m \u001b[38;5;66;03m# Create the tree and its simplified version\u001b[39;00m\n",
      "\u001b[1;31mValueError\u001b[0m: A level column cannot be named 'leaf'"
     ]
    }
   ],
   "source": [
    "df_leaf_in_cols = pd.read_csv(\"data/leaf_in_cols.csv\")\n",
    "df_simple_in_cols = pd.read_csv(\"data/simple_in_cols.csv\")\n",
    "\n",
    "tree = tiers.Tree.from_dataframe(df_leaf_in_cols)"
   ]
  },
  {
   "cell_type": "code",
   "execution_count": 8,
   "metadata": {},
   "outputs": [
    {
     "ename": "ValueError",
     "evalue": "A level column cannot be named 'simple'",
     "output_type": "error",
     "traceback": [
      "\u001b[1;31m---------------------------------------------------------------------------\u001b[0m",
      "\u001b[1;31mValueError\u001b[0m                                Traceback (most recent call last)",
      "Cell \u001b[1;32mIn[8], line 1\u001b[0m\n\u001b[1;32m----> 1\u001b[0m tree \u001b[38;5;241m=\u001b[39m \u001b[43mtiers\u001b[49m\u001b[38;5;241;43m.\u001b[39;49m\u001b[43mTree\u001b[49m\u001b[38;5;241;43m.\u001b[39;49m\u001b[43mfrom_dataframe\u001b[49m\u001b[43m(\u001b[49m\u001b[43mdf_simple_in_cols\u001b[49m\u001b[43m)\u001b[49m\n",
      "File \u001b[1;32mD:\\koodia\\tiers\\src\\tiers\\__init__.py:248\u001b[0m, in \u001b[0;36mTree.from_dataframe\u001b[1;34m(cls, df, node_remapping, set_root)\u001b[0m\n\u001b[0;32m    246\u001b[0m z \u001b[38;5;241m=\u001b[39m \u001b[38;5;28mzip\u001b[39m(labels\u001b[38;5;241m.\u001b[39mvalues\u001b[38;5;241m.\u001b[39mtolist(), leaves\u001b[38;5;241m.\u001b[39mvalues\u001b[38;5;241m.\u001b[39mtolist())\n\u001b[0;32m    247\u001b[0m label_map \u001b[38;5;241m=\u001b[39m {label: value \u001b[38;5;28;01mfor\u001b[39;00m label,value \u001b[38;5;129;01min\u001b[39;00m z}\n\u001b[1;32m--> 248\u001b[0m \u001b[38;5;28;01mreturn\u001b[39;00m \u001b[38;5;28;43mcls\u001b[39;49m\u001b[43m(\u001b[49m\u001b[43mdf\u001b[49m\u001b[38;5;241;43m=\u001b[39;49m\u001b[43mtree_df\u001b[49m\u001b[43m,\u001b[49m\n\u001b[0;32m    249\u001b[0m \u001b[43m           \u001b[49m\u001b[43mlabel_map\u001b[49m\u001b[38;5;241;43m=\u001b[39;49m\u001b[43mlabel_map\u001b[49m\u001b[43m,\u001b[49m\n\u001b[0;32m    250\u001b[0m \u001b[43m           \u001b[49m\u001b[43mnode_remapping\u001b[49m\u001b[38;5;241;43m=\u001b[39;49m\u001b[43mnode_remapping\u001b[49m\u001b[43m,\u001b[49m\n\u001b[0;32m    251\u001b[0m \u001b[43m           \u001b[49m\u001b[43mset_root\u001b[49m\u001b[38;5;241;43m=\u001b[39;49m\u001b[43mset_root\u001b[49m\u001b[43m)\u001b[49m\n",
      "File \u001b[1;32mD:\\koodia\\tiers\\src\\tiers\\__init__.py:209\u001b[0m, in \u001b[0;36mTree.__init__\u001b[1;34m(self, df, label_map, node_remapping, set_root)\u001b[0m\n\u001b[0;32m    207\u001b[0m \u001b[38;5;28mself\u001b[39m\u001b[38;5;241m.\u001b[39mlevels_sortable \u001b[38;5;241m=\u001b[39m [\u001b[38;5;124mf\u001b[39m\u001b[38;5;124m\"\u001b[39m\u001b[38;5;132;01m{\u001b[39;00mi\u001b[38;5;132;01m:\u001b[39;00m\u001b[38;5;124m02d\u001b[39m\u001b[38;5;132;01m}\u001b[39;00m\u001b[38;5;124m_\u001b[39m\u001b[38;5;132;01m{\u001b[39;00ms\u001b[38;5;132;01m}\u001b[39;00m\u001b[38;5;124m\"\u001b[39m \u001b[38;5;28;01mfor\u001b[39;00m i,s \u001b[38;5;129;01min\u001b[39;00m \u001b[38;5;28menumerate\u001b[39m(\u001b[38;5;28mself\u001b[39m\u001b[38;5;241m.\u001b[39mlevels)]\n\u001b[0;32m    208\u001b[0m \u001b[38;5;28;01mif\u001b[39;00m \u001b[38;5;124m\"\u001b[39m\u001b[38;5;124mleaf\u001b[39m\u001b[38;5;124m\"\u001b[39m \u001b[38;5;129;01min\u001b[39;00m \u001b[38;5;28mself\u001b[39m\u001b[38;5;241m.\u001b[39mlevels: \u001b[38;5;28;01mraise\u001b[39;00m \u001b[38;5;167;01mValueError\u001b[39;00m(\u001b[38;5;124m\"\u001b[39m\u001b[38;5;124mA level column cannot be named \u001b[39m\u001b[38;5;124m'\u001b[39m\u001b[38;5;124mleaf\u001b[39m\u001b[38;5;124m'\u001b[39m\u001b[38;5;124m\"\u001b[39m)\n\u001b[1;32m--> 209\u001b[0m \u001b[38;5;28;01mif\u001b[39;00m \u001b[38;5;124m\"\u001b[39m\u001b[38;5;124msimple\u001b[39m\u001b[38;5;124m\"\u001b[39m \u001b[38;5;129;01min\u001b[39;00m \u001b[38;5;28mself\u001b[39m\u001b[38;5;241m.\u001b[39mlevels: \u001b[38;5;28;01mraise\u001b[39;00m \u001b[38;5;167;01mValueError\u001b[39;00m(\u001b[38;5;124m\"\u001b[39m\u001b[38;5;124mA level column cannot be named \u001b[39m\u001b[38;5;124m'\u001b[39m\u001b[38;5;124msimple\u001b[39m\u001b[38;5;124m'\u001b[39m\u001b[38;5;124m\"\u001b[39m)\n\u001b[0;32m    211\u001b[0m \u001b[38;5;66;03m# Create the tree and its simplified version\u001b[39;00m\n\u001b[0;32m    212\u001b[0m \u001b[38;5;28mself\u001b[39m\u001b[38;5;241m.\u001b[39mroot \u001b[38;5;241m=\u001b[39m table2tree(df)\n",
      "\u001b[1;31mValueError\u001b[0m: A level column cannot be named 'simple'"
     ]
    }
   ],
   "source": [
    "tree = tiers.Tree.from_dataframe(df_simple_in_cols)"
   ]
  },
  {
   "cell_type": "code",
   "execution_count": 9,
   "metadata": {},
   "outputs": [
    {
     "ename": "ValueError",
     "evalue": "Columns are not disjoint. {'Isopoda'} exist multiple times",
     "output_type": "error",
     "traceback": [
      "\u001b[1;31m---------------------------------------------------------------------------\u001b[0m",
      "\u001b[1;31mValueError\u001b[0m                                Traceback (most recent call last)",
      "Cell \u001b[1;32mIn[9], line 2\u001b[0m\n\u001b[0;32m      1\u001b[0m reoccuring_value_df \u001b[38;5;241m=\u001b[39m pd\u001b[38;5;241m.\u001b[39mread_csv(\u001b[38;5;124m\"\u001b[39m\u001b[38;5;124mdata/reoccuring_value.csv\u001b[39m\u001b[38;5;124m\"\u001b[39m)\n\u001b[1;32m----> 2\u001b[0m tree \u001b[38;5;241m=\u001b[39m \u001b[43mtiers\u001b[49m\u001b[38;5;241;43m.\u001b[39;49m\u001b[43mTree\u001b[49m\u001b[38;5;241;43m.\u001b[39;49m\u001b[43mfrom_dataframe\u001b[49m\u001b[43m(\u001b[49m\u001b[43mreoccuring_value_df\u001b[49m\u001b[43m)\u001b[49m\n",
      "File \u001b[1;32mD:\\koodia\\tiers\\src\\tiers\\__init__.py:248\u001b[0m, in \u001b[0;36mTree.from_dataframe\u001b[1;34m(cls, df, node_remapping, set_root)\u001b[0m\n\u001b[0;32m    246\u001b[0m z \u001b[38;5;241m=\u001b[39m \u001b[38;5;28mzip\u001b[39m(labels\u001b[38;5;241m.\u001b[39mvalues\u001b[38;5;241m.\u001b[39mtolist(), leaves\u001b[38;5;241m.\u001b[39mvalues\u001b[38;5;241m.\u001b[39mtolist())\n\u001b[0;32m    247\u001b[0m label_map \u001b[38;5;241m=\u001b[39m {label: value \u001b[38;5;28;01mfor\u001b[39;00m label,value \u001b[38;5;129;01min\u001b[39;00m z}\n\u001b[1;32m--> 248\u001b[0m \u001b[38;5;28;01mreturn\u001b[39;00m \u001b[38;5;28;43mcls\u001b[39;49m\u001b[43m(\u001b[49m\u001b[43mdf\u001b[49m\u001b[38;5;241;43m=\u001b[39;49m\u001b[43mtree_df\u001b[49m\u001b[43m,\u001b[49m\n\u001b[0;32m    249\u001b[0m \u001b[43m           \u001b[49m\u001b[43mlabel_map\u001b[49m\u001b[38;5;241;43m=\u001b[39;49m\u001b[43mlabel_map\u001b[49m\u001b[43m,\u001b[49m\n\u001b[0;32m    250\u001b[0m \u001b[43m           \u001b[49m\u001b[43mnode_remapping\u001b[49m\u001b[38;5;241;43m=\u001b[39;49m\u001b[43mnode_remapping\u001b[49m\u001b[43m,\u001b[49m\n\u001b[0;32m    251\u001b[0m \u001b[43m           \u001b[49m\u001b[43mset_root\u001b[49m\u001b[38;5;241;43m=\u001b[39;49m\u001b[43mset_root\u001b[49m\u001b[43m)\u001b[49m\n",
      "File \u001b[1;32mD:\\koodia\\tiers\\src\\tiers\\__init__.py:205\u001b[0m, in \u001b[0;36mTree.__init__\u001b[1;34m(self, df, label_map, node_remapping, set_root)\u001b[0m\n\u001b[0;32m    202\u001b[0m \u001b[38;5;28mself\u001b[39m\u001b[38;5;241m.\u001b[39mlevel_int \u001b[38;5;241m=\u001b[39m \u001b[38;5;241m-\u001b[39m\u001b[38;5;241m1\u001b[39m \u001b[38;5;66;03m# Current level as int. -1 is the leaf level\u001b[39;00m\n\u001b[0;32m    204\u001b[0m \u001b[38;5;66;03m# Set levels from dataframe columns and check that the format is ok\u001b[39;00m\n\u001b[1;32m--> 205\u001b[0m \u001b[38;5;28;01massert\u001b[39;00m \u001b[43mcolumns_disjoint\u001b[49m\u001b[43m(\u001b[49m\u001b[43mdf\u001b[49m\u001b[43m)\u001b[49m\n\u001b[0;32m    206\u001b[0m \u001b[38;5;28mself\u001b[39m\u001b[38;5;241m.\u001b[39mlevels \u001b[38;5;241m=\u001b[39m df\u001b[38;5;241m.\u001b[39mcolumns\u001b[38;5;241m.\u001b[39mtolist()\n\u001b[0;32m    207\u001b[0m \u001b[38;5;28mself\u001b[39m\u001b[38;5;241m.\u001b[39mlevels_sortable \u001b[38;5;241m=\u001b[39m [\u001b[38;5;124mf\u001b[39m\u001b[38;5;124m\"\u001b[39m\u001b[38;5;132;01m{\u001b[39;00mi\u001b[38;5;132;01m:\u001b[39;00m\u001b[38;5;124m02d\u001b[39m\u001b[38;5;132;01m}\u001b[39;00m\u001b[38;5;124m_\u001b[39m\u001b[38;5;132;01m{\u001b[39;00ms\u001b[38;5;132;01m}\u001b[39;00m\u001b[38;5;124m\"\u001b[39m \u001b[38;5;28;01mfor\u001b[39;00m i,s \u001b[38;5;129;01min\u001b[39;00m \u001b[38;5;28menumerate\u001b[39m(\u001b[38;5;28mself\u001b[39m\u001b[38;5;241m.\u001b[39mlevels)]\n",
      "File \u001b[1;32mD:\\koodia\\tiers\\src\\tiers\\__init__.py:16\u001b[0m, in \u001b[0;36mcolumns_disjoint\u001b[1;34m(df)\u001b[0m\n\u001b[0;32m     14\u001b[0m         s \u001b[38;5;241m=\u001b[39m s\u001b[38;5;241m.\u001b[39munion(s2)\n\u001b[0;32m     15\u001b[0m     \u001b[38;5;28;01melse\u001b[39;00m:\n\u001b[1;32m---> 16\u001b[0m         \u001b[38;5;28;01mraise\u001b[39;00m \u001b[38;5;167;01mValueError\u001b[39;00m(\u001b[38;5;124mf\u001b[39m\u001b[38;5;124m\"\u001b[39m\u001b[38;5;124mColumns are not disjoint. \u001b[39m\u001b[38;5;132;01m{\u001b[39;00ms\u001b[38;5;241m.\u001b[39mintersection(s2)\u001b[38;5;132;01m}\u001b[39;00m\u001b[38;5;124m exist multiple times\u001b[39m\u001b[38;5;124m\"\u001b[39m)\n\u001b[0;32m     17\u001b[0m \u001b[38;5;28;01mreturn\u001b[39;00m \u001b[38;5;28;01mTrue\u001b[39;00m\n",
      "\u001b[1;31mValueError\u001b[0m: Columns are not disjoint. {'Isopoda'} exist multiple times"
     ]
    }
   ],
   "source": [
    "reoccuring_value_df = pd.read_csv(\"data/reoccuring_value.csv\")\n",
    "tree = tiers.Tree.from_dataframe(reoccuring_value_df)"
   ]
  },
  {
   "cell_type": "code",
   "execution_count": 10,
   "metadata": {},
   "outputs": [
    {
     "name": "stdout",
     "output_type": "stream",
     "text": [
      "Animalia\n",
      "└── Arthropoda\n",
      "    ├── Malacostraca\n",
      "    └── Insecta\n",
      "        └── Ephemeroptera\n",
      "            └── Caenidae\n",
      "                └── Caenis\n",
      "                    ├── Caenis horaria\n",
      "                    ├── Caenis luctuosa\n",
      "                    └── Caenis rivulorum\n"
     ]
    }
   ],
   "source": [
    "ancestor_as_label = pd.read_csv(\"data/ancestor_as_label.csv\")\n",
    "tree = tiers.Tree.from_dataframe(ancestor_as_label, node_remapping=True)\n",
    "tree.show_simple()"
   ]
  },
  {
   "cell_type": "code",
   "execution_count": 11,
   "metadata": {},
   "outputs": [
    {
     "data": {
      "text/plain": [
       "'Asellus'"
      ]
     },
     "execution_count": 11,
     "metadata": {},
     "output_type": "execute_result"
    }
   ],
   "source": [
    "tree.map(\"Asellus\")"
   ]
  }
 ],
 "metadata": {
  "kernelspec": {
   "display_name": "ds",
   "language": "python",
   "name": "python3"
  },
  "language_info": {
   "codemirror_mode": {
    "name": "ipython",
    "version": 3
   },
   "file_extension": ".py",
   "mimetype": "text/x-python",
   "name": "python",
   "nbconvert_exporter": "python",
   "pygments_lexer": "ipython3",
   "version": "3.9.17"
  }
 },
 "nbformat": 4,
 "nbformat_minor": 2
}
