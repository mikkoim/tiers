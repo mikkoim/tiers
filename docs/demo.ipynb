{
 "cells": [
  {
   "cell_type": "markdown",
   "metadata": {},
   "source": [
    "# tiers - a hierarchical label handling library\n",
    "\n",
    "The tiers library makes handling hierarchical labels easier. It is based on defining a hierarchy table with labels.\n",
    "\n",
    "This notebook outlines the basics of using tiers."
   ]
  },
  {
   "cell_type": "markdown",
   "metadata": {},
   "source": [
    "Let's load up a hierarchy table. A hierarchy table consists of a table of strings that represent a hierarchy, and optionally a label column. The strings in the hierarchy table are referred to as *nodes* in tiers. A label is an arbitary string that maps to a node."
   ]
  },
  {
   "cell_type": "code",
   "execution_count": 1,
   "metadata": {},
   "outputs": [
    {
     "data": {
      "text/html": [
       "<div>\n",
       "<style scoped>\n",
       "    .dataframe tbody tr th:only-of-type {\n",
       "        vertical-align: middle;\n",
       "    }\n",
       "\n",
       "    .dataframe tbody tr th {\n",
       "        vertical-align: top;\n",
       "    }\n",
       "\n",
       "    .dataframe thead th {\n",
       "        text-align: right;\n",
       "    }\n",
       "</style>\n",
       "<table border=\"1\" class=\"dataframe\">\n",
       "  <thead>\n",
       "    <tr style=\"text-align: right;\">\n",
       "      <th></th>\n",
       "      <th>kingdom</th>\n",
       "      <th>phylum</th>\n",
       "      <th>class</th>\n",
       "      <th>order</th>\n",
       "      <th>family</th>\n",
       "      <th>genus</th>\n",
       "      <th>species</th>\n",
       "      <th>type</th>\n",
       "      <th>label</th>\n",
       "    </tr>\n",
       "  </thead>\n",
       "  <tbody>\n",
       "    <tr>\n",
       "      <th>0</th>\n",
       "      <td>Animalia</td>\n",
       "      <td>Arthropoda</td>\n",
       "      <td>Malacostraca</td>\n",
       "      <td>Isopoda</td>\n",
       "      <td>Asellidae</td>\n",
       "      <td>Asellus</td>\n",
       "      <td>NaN</td>\n",
       "      <td>NaN</td>\n",
       "      <td>As</td>\n",
       "    </tr>\n",
       "    <tr>\n",
       "      <th>1</th>\n",
       "      <td>Animalia</td>\n",
       "      <td>Arthropoda</td>\n",
       "      <td>Malacostraca</td>\n",
       "      <td>Isopoda</td>\n",
       "      <td>Asellidae</td>\n",
       "      <td>Asellus</td>\n",
       "      <td>Asellus aquaticus</td>\n",
       "      <td>NaN</td>\n",
       "      <td>Asellus_aquaticus</td>\n",
       "    </tr>\n",
       "    <tr>\n",
       "      <th>2</th>\n",
       "      <td>Animalia</td>\n",
       "      <td>Arthropoda</td>\n",
       "      <td>Malacostraca</td>\n",
       "      <td>Isopoda</td>\n",
       "      <td>Asellidae</td>\n",
       "      <td>Asellus</td>\n",
       "      <td>Asellus aquaticus</td>\n",
       "      <td>NaN</td>\n",
       "      <td>Asellus aquaticus</td>\n",
       "    </tr>\n",
       "    <tr>\n",
       "      <th>3</th>\n",
       "      <td>Animalia</td>\n",
       "      <td>Arthropoda</td>\n",
       "      <td>Insecta</td>\n",
       "      <td>Ephemeroptera</td>\n",
       "      <td>Caenidae</td>\n",
       "      <td>Caenis</td>\n",
       "      <td>Caenis horaria</td>\n",
       "      <td>NaN</td>\n",
       "      <td>Caenis_horaria</td>\n",
       "    </tr>\n",
       "    <tr>\n",
       "      <th>4</th>\n",
       "      <td>Animalia</td>\n",
       "      <td>Arthropoda</td>\n",
       "      <td>Insecta</td>\n",
       "      <td>Ephemeroptera</td>\n",
       "      <td>Caenidae</td>\n",
       "      <td>Caenis</td>\n",
       "      <td>Caenis luctuosa</td>\n",
       "      <td>NaN</td>\n",
       "      <td>Caenis_luctuosa</td>\n",
       "    </tr>\n",
       "    <tr>\n",
       "      <th>5</th>\n",
       "      <td>Animalia</td>\n",
       "      <td>Arthropoda</td>\n",
       "      <td>Insecta</td>\n",
       "      <td>Ephemeroptera</td>\n",
       "      <td>Caenidae</td>\n",
       "      <td>Caenis</td>\n",
       "      <td>Caenis rivulorum</td>\n",
       "      <td>NaN</td>\n",
       "      <td>Caenis_rivulorum</td>\n",
       "    </tr>\n",
       "    <tr>\n",
       "      <th>6</th>\n",
       "      <td>Animalia</td>\n",
       "      <td>Arthropoda</td>\n",
       "      <td>Insecta</td>\n",
       "      <td>Ephemeroptera</td>\n",
       "      <td>Baetidae</td>\n",
       "      <td>NaN</td>\n",
       "      <td>NaN</td>\n",
       "      <td>NaN</td>\n",
       "      <td>Baetidae</td>\n",
       "    </tr>\n",
       "    <tr>\n",
       "      <th>7</th>\n",
       "      <td>Animalia</td>\n",
       "      <td>Arthropoda</td>\n",
       "      <td>Insecta</td>\n",
       "      <td>Ephemeroptera</td>\n",
       "      <td>Baetidae</td>\n",
       "      <td>Cloeon</td>\n",
       "      <td>Cloeon dipterum</td>\n",
       "      <td>NaN</td>\n",
       "      <td>Cloeon_dipterum</td>\n",
       "    </tr>\n",
       "    <tr>\n",
       "      <th>8</th>\n",
       "      <td>Animalia</td>\n",
       "      <td>Arthropoda</td>\n",
       "      <td>Insecta</td>\n",
       "      <td>Trichoptera</td>\n",
       "      <td>Polycentropodidae</td>\n",
       "      <td>Cyrnus</td>\n",
       "      <td>Cyrnus trimaculatus</td>\n",
       "      <td>NaN</td>\n",
       "      <td>Cyrnus_trimaculatus</td>\n",
       "    </tr>\n",
       "    <tr>\n",
       "      <th>9</th>\n",
       "      <td>Animalia</td>\n",
       "      <td>Arthropoda</td>\n",
       "      <td>Insecta</td>\n",
       "      <td>Coleoptera</td>\n",
       "      <td>Elmidae</td>\n",
       "      <td>Oulimnius</td>\n",
       "      <td>Oulimnius tuberculatus</td>\n",
       "      <td>Oulimnius tuberculatus larva</td>\n",
       "      <td>Oulimnius_tuberculatus</td>\n",
       "    </tr>\n",
       "    <tr>\n",
       "      <th>10</th>\n",
       "      <td>Animalia</td>\n",
       "      <td>Arthropoda</td>\n",
       "      <td>Insecta</td>\n",
       "      <td>Coleoptera</td>\n",
       "      <td>Elmidae</td>\n",
       "      <td>Oulimnius</td>\n",
       "      <td>Oulimnius tuberculatus</td>\n",
       "      <td>Oulimnius tuberculatus adult</td>\n",
       "      <td>Oulimnius_tuberculatus_adult</td>\n",
       "    </tr>\n",
       "    <tr>\n",
       "      <th>11</th>\n",
       "      <td>Animalia</td>\n",
       "      <td>Arthropoda</td>\n",
       "      <td>Insecta</td>\n",
       "      <td>Coleoptera</td>\n",
       "      <td>Elmidae</td>\n",
       "      <td>Oulimnius</td>\n",
       "      <td>Oulimnius tuberculatus</td>\n",
       "      <td>Oulimnius tuberculatus larva</td>\n",
       "      <td>Oulimnius_tuberculatus_larv</td>\n",
       "    </tr>\n",
       "    <tr>\n",
       "      <th>12</th>\n",
       "      <td>Animalia</td>\n",
       "      <td>Arthropoda</td>\n",
       "      <td>Insecta</td>\n",
       "      <td>Trichoptera</td>\n",
       "      <td>Polycentropodidae</td>\n",
       "      <td>Polycentropus</td>\n",
       "      <td>Polycentropus flavomaculatus</td>\n",
       "      <td>NaN</td>\n",
       "      <td>Polycentropus_flavomaculatus</td>\n",
       "    </tr>\n",
       "    <tr>\n",
       "      <th>13</th>\n",
       "      <td>Animalia</td>\n",
       "      <td>Mollusca</td>\n",
       "      <td>Gastropoda</td>\n",
       "      <td>Hygrophila</td>\n",
       "      <td>Lymnaeidae</td>\n",
       "      <td>Radix</td>\n",
       "      <td>Radix balthica</td>\n",
       "      <td>NaN</td>\n",
       "      <td>RaBa</td>\n",
       "    </tr>\n",
       "  </tbody>\n",
       "</table>\n",
       "</div>"
      ],
      "text/plain": [
       "     kingdom      phylum         class          order             family  \\\n",
       "0   Animalia  Arthropoda  Malacostraca        Isopoda          Asellidae   \n",
       "1   Animalia  Arthropoda  Malacostraca        Isopoda          Asellidae   \n",
       "2   Animalia  Arthropoda  Malacostraca        Isopoda          Asellidae   \n",
       "3   Animalia  Arthropoda       Insecta  Ephemeroptera           Caenidae   \n",
       "4   Animalia  Arthropoda       Insecta  Ephemeroptera           Caenidae   \n",
       "5   Animalia  Arthropoda       Insecta  Ephemeroptera           Caenidae   \n",
       "6   Animalia  Arthropoda       Insecta  Ephemeroptera           Baetidae   \n",
       "7   Animalia  Arthropoda       Insecta  Ephemeroptera           Baetidae   \n",
       "8   Animalia  Arthropoda       Insecta    Trichoptera  Polycentropodidae   \n",
       "9   Animalia  Arthropoda       Insecta     Coleoptera            Elmidae   \n",
       "10  Animalia  Arthropoda       Insecta     Coleoptera            Elmidae   \n",
       "11  Animalia  Arthropoda       Insecta     Coleoptera            Elmidae   \n",
       "12  Animalia  Arthropoda       Insecta    Trichoptera  Polycentropodidae   \n",
       "13  Animalia    Mollusca    Gastropoda     Hygrophila         Lymnaeidae   \n",
       "\n",
       "            genus                       species                          type  \\\n",
       "0         Asellus                           NaN                           NaN   \n",
       "1         Asellus             Asellus aquaticus                           NaN   \n",
       "2         Asellus             Asellus aquaticus                           NaN   \n",
       "3          Caenis                Caenis horaria                           NaN   \n",
       "4          Caenis               Caenis luctuosa                           NaN   \n",
       "5          Caenis              Caenis rivulorum                           NaN   \n",
       "6             NaN                           NaN                           NaN   \n",
       "7          Cloeon               Cloeon dipterum                           NaN   \n",
       "8          Cyrnus           Cyrnus trimaculatus                           NaN   \n",
       "9       Oulimnius        Oulimnius tuberculatus  Oulimnius tuberculatus larva   \n",
       "10      Oulimnius        Oulimnius tuberculatus  Oulimnius tuberculatus adult   \n",
       "11      Oulimnius        Oulimnius tuberculatus  Oulimnius tuberculatus larva   \n",
       "12  Polycentropus  Polycentropus flavomaculatus                           NaN   \n",
       "13          Radix                Radix balthica                           NaN   \n",
       "\n",
       "                           label  \n",
       "0                             As  \n",
       "1              Asellus_aquaticus  \n",
       "2              Asellus aquaticus  \n",
       "3                 Caenis_horaria  \n",
       "4                Caenis_luctuosa  \n",
       "5               Caenis_rivulorum  \n",
       "6                       Baetidae  \n",
       "7                Cloeon_dipterum  \n",
       "8            Cyrnus_trimaculatus  \n",
       "9         Oulimnius_tuberculatus  \n",
       "10  Oulimnius_tuberculatus_adult  \n",
       "11   Oulimnius_tuberculatus_larv  \n",
       "12  Polycentropus_flavomaculatus  \n",
       "13                          RaBa  "
      ]
     },
     "execution_count": 1,
     "metadata": {},
     "output_type": "execute_result"
    }
   ],
   "source": [
    "import pandas as pd\n",
    "\n",
    "df = pd.read_csv(\"../tests/data/taxa_table.csv\")\n",
    "df"
   ]
  },
  {
   "cell_type": "markdown",
   "metadata": {},
   "source": [
    "Most of the species are classified to the species level, except *Asellus* and *Baetidae*. The species *Oulimnius tuberculatus* has two different subclasses, an adult and a larva form. The larva form has also two aliased mappings, Oulimnius_tuberculatus and Oulimnius_tuberculatus_larv are both mapped to the larva type. Similarly, \"Asellus_aquaticus\" and \"Asellus aquaticus\" (the same string as the node) are mapped to the same node.\n",
    "\n",
    "The label assignment is arbitary and can be any string. For example, the species *Radix balthica* has the label RaBa in this dataset. The label can also be the same string as the leaf node (leftmost not-NaN value on the row).\n",
    "\n",
    "tiers assumes that the last column of a hierarchy table is the label column. The mapping from labels to nodes can also be provided separately as a dict."
   ]
  },
  {
   "cell_type": "markdown",
   "metadata": {},
   "source": [
    "## Trees\n",
    "\n",
    "The basic object in tiers is a `Tree`. The label hierarchy is saved to the tree and it handles the mapping of labels to different values in the hiearchy. A `Tree` remembers also the different names of each level, which are provided as column names in the original dataframe. `Tree` can be set to a specific level that all labels are mapped to."
   ]
  },
  {
   "cell_type": "code",
   "execution_count": 2,
   "metadata": {},
   "outputs": [
    {
     "name": "stdout",
     "output_type": "stream",
     "text": [
      "Animalia\n",
      "├── Arthropoda\n",
      "│   ├── Malacostraca\n",
      "│   │   └── Isopoda\n",
      "│   │       └── Asellidae\n",
      "│   │           └── Asellus\n",
      "│   │               └── Asellus aquaticus\n",
      "│   └── Insecta\n",
      "│       ├── Ephemeroptera\n",
      "│       │   ├── Caenidae\n",
      "│       │   │   └── Caenis\n",
      "│       │   │       ├── Caenis horaria\n",
      "│       │   │       ├── Caenis luctuosa\n",
      "│       │   │       └── Caenis rivulorum\n",
      "│       │   └── Baetidae\n",
      "│       │       └── Cloeon\n",
      "│       │           └── Cloeon dipterum\n",
      "│       ├── Trichoptera\n",
      "│       │   └── Polycentropodidae\n",
      "│       │       ├── Cyrnus\n",
      "│       │       │   └── Cyrnus trimaculatus\n",
      "│       │       └── Polycentropus\n",
      "│       │           └── Polycentropus flavomaculatus\n",
      "│       └── Coleoptera\n",
      "│           └── Elmidae\n",
      "│               └── Oulimnius\n",
      "│                   └── Oulimnius tuberculatus\n",
      "│                       ├── Oulimnius tuberculatus larva\n",
      "│                       └── Oulimnius tuberculatus adult\n",
      "└── Mollusca\n",
      "    └── Gastropoda\n",
      "        └── Hygrophila\n",
      "            └── Lymnaeidae\n",
      "                └── Radix\n",
      "                    └── Radix balthica\n"
     ]
    }
   ],
   "source": [
    "import importlib\n",
    "import tiers\n",
    "importlib.reload(tiers)\n",
    "\n",
    "tree = tiers.Tree.from_dataframe(df)\n",
    "tree.show()"
   ]
  },
  {
   "cell_type": "markdown",
   "metadata": {},
   "source": [
    "In addition to the full tree, a simplified version can also be shown. Here leaves are showed on the level where they have siblings."
   ]
  },
  {
   "cell_type": "code",
   "execution_count": 3,
   "metadata": {},
   "outputs": [
    {
     "name": "stdout",
     "output_type": "stream",
     "text": [
      "Animalia\n",
      "├── Arthropoda\n",
      "│   ├── Malacostraca\n",
      "│   └── Insecta\n",
      "│       ├── Ephemeroptera\n",
      "│       │   ├── Caenidae\n",
      "│       │   │   └── Caenis\n",
      "│       │   │       ├── Caenis horaria\n",
      "│       │   │       ├── Caenis luctuosa\n",
      "│       │   │       └── Caenis rivulorum\n",
      "│       │   └── Baetidae\n",
      "│       ├── Trichoptera\n",
      "│       │   └── Polycentropodidae\n",
      "│       │       ├── Cyrnus\n",
      "│       │       └── Polycentropus\n",
      "│       └── Coleoptera\n",
      "│           └── Elmidae\n",
      "│               └── Oulimnius\n",
      "│                   └── Oulimnius tuberculatus\n",
      "│                       ├── Oulimnius tuberculatus larva\n",
      "│                       └── Oulimnius tuberculatus adult\n",
      "└── Mollusca\n"
     ]
    }
   ],
   "source": [
    "tree.show_simple()"
   ]
  },
  {
   "cell_type": "markdown",
   "metadata": {},
   "source": [
    "A `Tree` has a `level` property, that shows the current level of the tree. This can be changed with `tree.set_level`. Possible levels can be seen in properties `levels` and `levels_sortable`, which includes the depth of the level. `leaf` is the special default level where labels are mapped to the deepest leaf found in the hierarchy."
   ]
  },
  {
   "cell_type": "code",
   "execution_count": 4,
   "metadata": {},
   "outputs": [
    {
     "data": {
      "text/plain": [
       "'05_genus'"
      ]
     },
     "execution_count": 4,
     "metadata": {},
     "output_type": "execute_result"
    }
   ],
   "source": [
    "tree.set_level(\"genus\")\n",
    "tree.level"
   ]
  },
  {
   "cell_type": "code",
   "execution_count": 5,
   "metadata": {},
   "outputs": [
    {
     "name": "stdout",
     "output_type": "stream",
     "text": [
      "['kingdom', 'phylum', 'class', 'order', 'family', 'genus', 'species', 'type']\n",
      "['00_kingdom', '01_phylum', '02_class', '03_order', '04_family', '05_genus', '06_species', '07_type']\n"
     ]
    }
   ],
   "source": [
    "print(tree.levels)\n",
    "print(tree.levels_sortable)"
   ]
  },
  {
   "cell_type": "markdown",
   "metadata": {},
   "source": [
    "## Mapping values\n",
    "\n",
    "The basic functionality of a tree is to map values to different levels in the hierarchy. This can be done by passing a label of a list of labels to the `tree.map()` method. Because we set the tree level as genus, the label `RaBa` is mapped to the genus level."
   ]
  },
  {
   "cell_type": "code",
   "execution_count": 6,
   "metadata": {},
   "outputs": [
    {
     "data": {
      "text/plain": [
       "'Radix'"
      ]
     },
     "execution_count": 6,
     "metadata": {},
     "output_type": "execute_result"
    }
   ],
   "source": [
    "tree.map(\"RaBa\")"
   ]
  },
  {
   "cell_type": "code",
   "execution_count": 7,
   "metadata": {},
   "outputs": [
    {
     "data": {
      "text/plain": [
       "['Asellus', 'Caenis']"
      ]
     },
     "execution_count": 7,
     "metadata": {},
     "output_type": "execute_result"
    }
   ],
   "source": [
    "# A list can be also passed\n",
    "tree.map([\"Asellus_aquaticus\",\n",
    "          \"Caenis_horaria\"])"
   ]
  },
  {
   "cell_type": "code",
   "execution_count": 8,
   "metadata": {},
   "outputs": [
    {
     "data": {
      "text/plain": [
       "['Asellus', 'Asellus aquaticus', 'Oulimnius tuberculatus larva']"
      ]
     },
     "execution_count": 8,
     "metadata": {},
     "output_type": "execute_result"
    }
   ],
   "source": [
    "# The level can be changed temporarily. This does not affect the level of the tree\n",
    "tree.map([\"As\",\n",
    "          \"Asellus_aquaticus\",\n",
    "          \"Oulimnius_tuberculatus\"],\n",
    "          level=\"type\")"
   ]
  },
  {
   "cell_type": "code",
   "execution_count": 9,
   "metadata": {},
   "outputs": [
    {
     "name": "stdout",
     "output_type": "stream",
     "text": [
      "05_genus\n"
     ]
    }
   ],
   "source": [
    "# The tree level is not changed\n",
    "print(tree.level)\n"
   ]
  },
  {
   "cell_type": "markdown",
   "metadata": {},
   "source": [
    "### Strict level mapping\n",
    "Above we see that even though we specify the mapping on `type` level, the labels `Asellus` and `Asellus_aquaticus` are mapped to their lowest levels, `genus` and `species`. If we want to map strictly to the specified level, we can pass the parameter `strict=True` to the method. Then labels which correspond to a leaf node higher than the level are returned as `None`."
   ]
  },
  {
   "cell_type": "code",
   "execution_count": 10,
   "metadata": {},
   "outputs": [
    {
     "data": {
      "text/plain": [
       "[None, None, 'Oulimnius tuberculatus larva']"
      ]
     },
     "execution_count": 10,
     "metadata": {},
     "output_type": "execute_result"
    }
   ],
   "source": [
    "tree.map([\"As\",\n",
    "          \"Asellus_aquaticus\",\n",
    "          \"Oulimnius_tuberculatus\"],\n",
    "          level=\"type\",\n",
    "          strict=True)"
   ]
  },
  {
   "cell_type": "code",
   "execution_count": 11,
   "metadata": {},
   "outputs": [
    {
     "data": {
      "text/plain": [
       "'Oulimnius tuberculatus larva'"
      ]
     },
     "execution_count": 11,
     "metadata": {},
     "output_type": "execute_result"
    }
   ],
   "source": [
    "tree.map(\"Oulimnius_tuberculatus\", level=\"leaf\")"
   ]
  },
  {
   "cell_type": "markdown",
   "metadata": {},
   "source": [
    "### Mapping node strings\n",
    "\n",
    "The `tree.map` function accepts both label and node values. If a label has re-mapped a node value, a warning is given during the tree creation. Strings are always first assumed to be labels, and mapped to their corresponding node values. If a string is not in the label list, it is assumed to be a node.\n",
    "\n",
    "If you want to handle strings purely as node values (for example if a label has re-mapped a node), pass `nodes=true` to the `map` method\n",
    "\n",
    "The labels can be seen in the `tree.label_map` dict. "
   ]
  },
  {
   "cell_type": "code",
   "execution_count": 12,
   "metadata": {},
   "outputs": [
    {
     "data": {
      "text/plain": [
       "['Arthropoda', 'Arthropoda']"
      ]
     },
     "execution_count": 12,
     "metadata": {},
     "output_type": "execute_result"
    }
   ],
   "source": [
    "tree.map([\"Asellus\", \"Caenis\"], level=\"phylum\", nodes=True)"
   ]
  },
  {
   "cell_type": "code",
   "execution_count": 13,
   "metadata": {},
   "outputs": [
    {
     "name": "stdout",
     "output_type": "stream",
     "text": [
      "'Trying to get an nonexistent node As. Perhaps you are trying to find a label?'\n"
     ]
    }
   ],
   "source": [
    "# when nodes is true, labels can't be passed for mapping\n",
    "try:\n",
    "    tree.map([\"As\", \"Asellus_aquaticus\"], nodes=True)\n",
    "except Exception as e:\n",
    "    print(e)"
   ]
  },
  {
   "cell_type": "code",
   "execution_count": 14,
   "metadata": {},
   "outputs": [
    {
     "data": {
      "text/plain": [
       "['Arthropoda', 'Arthropoda']"
      ]
     },
     "execution_count": 14,
     "metadata": {},
     "output_type": "execute_result"
    }
   ],
   "source": [
    "# By default one can map for both labels and nodes\n",
    "tree.map([\"Caenis\", \"As\"], level=\"phylum\")"
   ]
  },
  {
   "cell_type": "markdown",
   "metadata": {},
   "source": [
    "### Level mapping\n",
    "We can map labels to the level strings"
   ]
  },
  {
   "cell_type": "code",
   "execution_count": 15,
   "metadata": {},
   "outputs": [
    {
     "name": "stdout",
     "output_type": "stream",
     "text": [
      "05_genus\n",
      "['species', 'genus']\n"
     ]
    }
   ],
   "source": [
    "print(tree.get_level(\"As\"))\n",
    "print(tree.get_level([\"Asellus aquaticus\", \"Caenis\"], nodes=True, prefix=False))"
   ]
  },
  {
   "cell_type": "markdown",
   "metadata": {},
   "source": [
    "# Other features\n",
    "\n",
    "Tiers provides also useful functions for handling hierarchical labels."
   ]
  },
  {
   "cell_type": "markdown",
   "metadata": {},
   "source": [
    "### A tree from a dataframe without labels\n",
    "\n",
    "A tiers `Tree` can be created also without label mappings."
   ]
  },
  {
   "cell_type": "code",
   "execution_count": 16,
   "metadata": {},
   "outputs": [
    {
     "name": "stdout",
     "output_type": "stream",
     "text": [
      "Animalia\n",
      "├── Arthropoda\n",
      "│   ├── Malacostraca\n",
      "│   └── Insecta\n",
      "│       ├── Ephemeroptera\n",
      "│       │   ├── Caenidae\n",
      "│       │   │   └── Caenis\n",
      "│       │   │       ├── Caenis horaria\n",
      "│       │   │       ├── Caenis luctuosa\n",
      "│       │   │       └── Caenis rivulorum\n",
      "│       │   ├── Baetidae\n",
      "│       │   │   ├── Centroptilum\n",
      "│       │   │   └── Cloeon\n",
      "│       │   ├── Ephemeridae\n",
      "│       │   └── Heptageniidae\n",
      "│       │       ├── Heptagenia\n",
      "│       │       └── Kageronia\n",
      "│       ├── Trichoptera\n",
      "│       │   ├── Polycentropodidae\n",
      "│       │   │   ├── Cyrnus\n",
      "│       │   │   └── Polycentropus\n",
      "│       │   ├── Ecnomidae\n",
      "│       │   ├── Lepidostomatidae\n",
      "│       │   ├── Leptoceridae\n",
      "│       │   └── Psychomyiidae\n",
      "│       │       ├── Psychomyia\n",
      "│       │       └── Tinodes\n",
      "│       └── Coleoptera\n",
      "│           └── Elmidae\n",
      "│               └── Oulimnius\n",
      "│                   └── Oulimnius tuberculatus\n",
      "│                       ├── Oulimnius tuberculatus larva\n",
      "│                       └── Oulimnius tuberculatus adult\n",
      "├── Annelida\n",
      "│   └── Clitellata\n",
      "│       ├── Arhynchobdellida\n",
      "│       ├── Rhynchobdellida\n",
      "│       └── Tubificida\n",
      "│           └── Naididae\n",
      "│               ├── Spirosperma\n",
      "│               └── Stylaria\n",
      "└── Mollusca\n"
     ]
    }
   ],
   "source": [
    "df_nolbl = pd.read_csv(\"../tests/data/taxa_table_no_labels.csv\")\n",
    "tree_nolbl = tiers.Tree(df = df_nolbl)\n",
    "tree_nolbl.show_simple()"
   ]
  },
  {
   "cell_type": "code",
   "execution_count": 17,
   "metadata": {},
   "outputs": [
    {
     "data": {
      "text/plain": [
       "['Baetidae', 'Polycentropodidae']"
      ]
     },
     "execution_count": 17,
     "metadata": {},
     "output_type": "execute_result"
    }
   ],
   "source": [
    "tree_nolbl.map([\"Cloeon\",\n",
    "                \"Cyrnus\"],\n",
    "                level=\"family\")"
   ]
  },
  {
   "cell_type": "markdown",
   "metadata": {},
   "source": [
    "A label mapping can be later assigned"
   ]
  },
  {
   "cell_type": "code",
   "execution_count": 18,
   "metadata": {},
   "outputs": [
    {
     "data": {
      "text/plain": [
       "['Caenidae', 'Naididae']"
      ]
     },
     "execution_count": 18,
     "metadata": {},
     "output_type": "execute_result"
    }
   ],
   "source": [
    "label_map = {\"CaHo\": \"Caenis horaria\"}\n",
    "tree_nolbl.label_map = label_map\n",
    "tree_nolbl.map([\"CaHo\", \"Stylaria\"], level=\"family\")"
   ]
  },
  {
   "cell_type": "markdown",
   "metadata": {},
   "source": [
    "A label map can be safely updated with `tree.update_label_map`"
   ]
  },
  {
   "cell_type": "code",
   "execution_count": 19,
   "metadata": {},
   "outputs": [
    {
     "data": {
      "text/plain": [
       "['Caenis horaria', 'Caenis horaria']"
      ]
     },
     "execution_count": 19,
     "metadata": {},
     "output_type": "execute_result"
    }
   ],
   "source": [
    "tree_nolbl = tree_nolbl.update_label_map({\"test_label\": \"Caenis horaria\"})\n",
    "tree_nolbl.map([\"test_label\", \"CaHo\"])"
   ]
  },
  {
   "cell_type": "markdown",
   "metadata": {},
   "source": [
    "## Label as the same name as node\n",
    "If your labels contain strings that are present in the hierarchy table, these values can be mapped to a different node. During tree creation this must be specified or a warning will be given. Here we want to remap label `Asellidae` to `Asellus`"
   ]
  },
  {
   "cell_type": "code",
   "execution_count": 20,
   "metadata": {},
   "outputs": [
    {
     "data": {
      "text/html": [
       "<div>\n",
       "<style scoped>\n",
       "    .dataframe tbody tr th:only-of-type {\n",
       "        vertical-align: middle;\n",
       "    }\n",
       "\n",
       "    .dataframe tbody tr th {\n",
       "        vertical-align: top;\n",
       "    }\n",
       "\n",
       "    .dataframe thead th {\n",
       "        text-align: right;\n",
       "    }\n",
       "</style>\n",
       "<table border=\"1\" class=\"dataframe\">\n",
       "  <thead>\n",
       "    <tr style=\"text-align: right;\">\n",
       "      <th></th>\n",
       "      <th>kingdom</th>\n",
       "      <th>phylum</th>\n",
       "      <th>class</th>\n",
       "      <th>order</th>\n",
       "      <th>family</th>\n",
       "      <th>genus</th>\n",
       "      <th>species</th>\n",
       "      <th>type</th>\n",
       "      <th>label</th>\n",
       "    </tr>\n",
       "  </thead>\n",
       "  <tbody>\n",
       "    <tr>\n",
       "      <th>0</th>\n",
       "      <td>Animalia</td>\n",
       "      <td>Arthropoda</td>\n",
       "      <td>Malacostraca</td>\n",
       "      <td>Isopoda</td>\n",
       "      <td>Asellidae</td>\n",
       "      <td>Asellus</td>\n",
       "      <td>NaN</td>\n",
       "      <td>NaN</td>\n",
       "      <td>Asellidae</td>\n",
       "    </tr>\n",
       "    <tr>\n",
       "      <th>1</th>\n",
       "      <td>Animalia</td>\n",
       "      <td>Arthropoda</td>\n",
       "      <td>Malacostraca</td>\n",
       "      <td>Isopoda</td>\n",
       "      <td>Asellidae</td>\n",
       "      <td>Asellus</td>\n",
       "      <td>Asellus aquaticus</td>\n",
       "      <td>NaN</td>\n",
       "      <td>Asellus_aquaticus</td>\n",
       "    </tr>\n",
       "    <tr>\n",
       "      <th>2</th>\n",
       "      <td>Animalia</td>\n",
       "      <td>Arthropoda</td>\n",
       "      <td>Insecta</td>\n",
       "      <td>Ephemeroptera</td>\n",
       "      <td>Caenidae</td>\n",
       "      <td>Caenis</td>\n",
       "      <td>Caenis horaria</td>\n",
       "      <td>NaN</td>\n",
       "      <td>Caenis_horaria</td>\n",
       "    </tr>\n",
       "    <tr>\n",
       "      <th>3</th>\n",
       "      <td>Animalia</td>\n",
       "      <td>Arthropoda</td>\n",
       "      <td>Insecta</td>\n",
       "      <td>Ephemeroptera</td>\n",
       "      <td>Caenidae</td>\n",
       "      <td>Caenis</td>\n",
       "      <td>Caenis luctuosa</td>\n",
       "      <td>NaN</td>\n",
       "      <td>Caenis_luctuosa</td>\n",
       "    </tr>\n",
       "    <tr>\n",
       "      <th>4</th>\n",
       "      <td>Animalia</td>\n",
       "      <td>Arthropoda</td>\n",
       "      <td>Insecta</td>\n",
       "      <td>Ephemeroptera</td>\n",
       "      <td>Caenidae</td>\n",
       "      <td>Caenis</td>\n",
       "      <td>Caenis rivulorum</td>\n",
       "      <td>NaN</td>\n",
       "      <td>Caenis_rivulorum</td>\n",
       "    </tr>\n",
       "  </tbody>\n",
       "</table>\n",
       "</div>"
      ],
      "text/plain": [
       "    kingdom      phylum         class          order     family    genus  \\\n",
       "0  Animalia  Arthropoda  Malacostraca        Isopoda  Asellidae  Asellus   \n",
       "1  Animalia  Arthropoda  Malacostraca        Isopoda  Asellidae  Asellus   \n",
       "2  Animalia  Arthropoda       Insecta  Ephemeroptera   Caenidae   Caenis   \n",
       "3  Animalia  Arthropoda       Insecta  Ephemeroptera   Caenidae   Caenis   \n",
       "4  Animalia  Arthropoda       Insecta  Ephemeroptera   Caenidae   Caenis   \n",
       "\n",
       "             species  type              label  \n",
       "0                NaN   NaN          Asellidae  \n",
       "1  Asellus aquaticus   NaN  Asellus_aquaticus  \n",
       "2     Caenis horaria   NaN     Caenis_horaria  \n",
       "3    Caenis luctuosa   NaN    Caenis_luctuosa  \n",
       "4   Caenis rivulorum   NaN   Caenis_rivulorum  "
      ]
     },
     "execution_count": 20,
     "metadata": {},
     "output_type": "execute_result"
    }
   ],
   "source": [
    "df_remap_node = pd.read_csv(\"../tests/data/ancestor_as_label.csv\")\n",
    "df_remap_node"
   ]
  },
  {
   "cell_type": "code",
   "execution_count": 21,
   "metadata": {},
   "outputs": [
    {
     "name": "stderr",
     "output_type": "stream",
     "text": [
      "D:\\koodia\\tiers\\src\\tiers\\__init__.py:437: UserWarning: label 'Asellidae' is in the hierarchy as a higher-level node. It will map to 'Asellus' by default, unless nodes=True is set. Remove the redundant row from the dataframe or set `node_remapping=True` if you want to use node names as labels and suppress this warning\n",
      "  warnings.warn(\n"
     ]
    }
   ],
   "source": [
    "tree_remap = tiers.Tree.from_dataframe(df_remap_node)"
   ]
  },
  {
   "cell_type": "code",
   "execution_count": 22,
   "metadata": {},
   "outputs": [
    {
     "name": "stdout",
     "output_type": "stream",
     "text": [
      "Animalia\n",
      "└── Arthropoda\n",
      "    ├── Malacostraca\n",
      "    │   └── Isopoda\n",
      "    │       └── Asellidae\n",
      "    │           └── Asellus\n",
      "    │               └── Asellus aquaticus\n",
      "    └── Insecta\n",
      "        └── Ephemeroptera\n",
      "            └── Caenidae\n",
      "                └── Caenis\n",
      "                    ├── Caenis horaria\n",
      "                    ├── Caenis luctuosa\n",
      "                    └── Caenis rivulorum\n"
     ]
    }
   ],
   "source": [
    "# The warning can be suppressed by setting node_remapping=True\n",
    "tree_remap = tiers.Tree.from_dataframe(df_remap_node, node_remapping=True)\n",
    "tree_remap.show()"
   ]
  },
  {
   "cell_type": "code",
   "execution_count": 23,
   "metadata": {},
   "outputs": [
    {
     "data": {
      "text/plain": [
       "['Asellus', 'Asellus aquaticus']"
      ]
     },
     "execution_count": 23,
     "metadata": {},
     "output_type": "execute_result"
    }
   ],
   "source": [
    "# if nodes=False, 'Asellidae' is handled as a label\n",
    "tree_remap.map([\"Asellidae\", \"Asellus_aquaticus\"], nodes=False)"
   ]
  },
  {
   "cell_type": "code",
   "execution_count": 24,
   "metadata": {},
   "outputs": [
    {
     "data": {
      "text/plain": [
       "['Asellidae', 'Asellus aquaticus']"
      ]
     },
     "execution_count": 24,
     "metadata": {},
     "output_type": "execute_result"
    }
   ],
   "source": [
    "# if nodes=True, it is handled as a node string\n",
    "tree_remap.map([\"Asellidae\", \"Asellus aquaticus\"], nodes=True)"
   ]
  },
  {
   "cell_type": "markdown",
   "metadata": {},
   "source": [
    "### Other functions\n",
    "- `in_ancestors`: See if a node value is in ancestors\n",
    "- `match`: checks if the two nodes are of the same lineage\n",
    "- `lca`: find the lowest common ancestor of two nodes\n",
    "- `match_level` returns the level where the two nodes have the lowest common ancestor\n",
    "\n",
    "All functions have the parameter `nodes=False` which assumes the strings are node names instead of labels"
   ]
  },
  {
   "cell_type": "code",
   "execution_count": 25,
   "metadata": {},
   "outputs": [
    {
     "name": "stdout",
     "output_type": "stream",
     "text": [
      "True\n",
      "False\n",
      "True\n",
      "True\n",
      "False\n",
      "False\n",
      "True\n",
      "Ephemeroptera\n",
      "Arthropoda\n",
      "03_order\n"
     ]
    }
   ],
   "source": [
    "print(tree.in_ancestors(\"Caenis horaria\", \"Caenis\"))\n",
    "print(tree.in_ancestors(\"Caenis horaria\", \"Caenis horaria\"))\n",
    "print(tree.match(\"Caenis horaria\", \"Caenis\"))\n",
    "print(tree.match(\"Caenis\", \"Caenis horaria\"))\n",
    "print(tree.match(\"Baetidae\", \"Caenis horaria\"))\n",
    "print(tree.match(\"Caenis horaria\", \"Baetidae\"))\n",
    "print(tree.match(\"Caenis horaria\", \"Caenis horaria\"))\n",
    "print(tree.lca(\"Caenis horaria\", \"Baetidae\"))\n",
    "print(tree.lca(\"Caenis_horaria\", \"As\"))\n",
    "print(tree.match_level(\"Caenis horaria\", \"Baetidae\"))"
   ]
  },
  {
   "cell_type": "markdown",
   "metadata": {},
   "source": [
    "### Merging trees\n",
    "\n",
    "Trees can be merged. The label mappings come now from both trees"
   ]
  },
  {
   "cell_type": "code",
   "execution_count": 26,
   "metadata": {},
   "outputs": [
    {
     "name": "stdout",
     "output_type": "stream",
     "text": [
      "Animalia\n",
      "├── Arthropoda\n",
      "│   ├── Malacostraca\n",
      "│   │   └── Isopoda\n",
      "│   │       └── Asellidae\n",
      "│   │           └── Asellus\n",
      "│   │               └── Asellus aquaticus\n",
      "│   └── Insecta\n",
      "│       ├── Ephemeroptera\n",
      "│       │   ├── Caenidae\n",
      "│       │   │   └── Caenis\n",
      "│       │   │       ├── Caenis horaria\n",
      "│       │   │       ├── Caenis luctuosa\n",
      "│       │   │       └── Caenis rivulorum\n",
      "│       │   ├── Baetidae\n",
      "│       │   │   ├── Cloeon\n",
      "│       │   │   │   └── Cloeon dipterum\n",
      "│       │   │   └── Centroptilum\n",
      "│       │   │       └── Centroptilum luteolum\n",
      "│       │   ├── Ephemeridae\n",
      "│       │   │   └── Ephemera\n",
      "│       │   │       └── Ephemera vulgata\n",
      "│       │   └── Heptageniidae\n",
      "│       │       ├── Heptagenia\n",
      "│       │       │   └── Heptagenia dalecarlica\n",
      "│       │       └── Kageronia\n",
      "│       │           └── Kageronia fuscogrisea\n",
      "│       ├── Trichoptera\n",
      "│       │   ├── Polycentropodidae\n",
      "│       │   │   ├── Cyrnus\n",
      "│       │   │   │   └── Cyrnus trimaculatus\n",
      "│       │   │   └── Polycentropus\n",
      "│       │   │       └── Polycentropus flavomaculatus\n",
      "│       │   ├── Ecnomidae\n",
      "│       │   │   └── Ecnomus\n",
      "│       │   │       └── Ecnomus tenellus\n",
      "│       │   ├── Lepidostomatidae\n",
      "│       │   │   └── Lepidostoma\n",
      "│       │   │       └── Lepidostoma hirtum\n",
      "│       │   ├── Leptoceridae\n",
      "│       │   │   └── Mystacides\n",
      "│       │   │       └── Mystacides azureus\n",
      "│       │   └── Psychomyiidae\n",
      "│       │       ├── Psychomyia\n",
      "│       │       │   └── Psychomyia pusilla\n",
      "│       │       └── Tinodes\n",
      "│       │           └── Tinodes waeneri\n",
      "│       └── Coleoptera\n",
      "│           └── Elmidae\n",
      "│               └── Oulimnius\n",
      "│                   └── Oulimnius tuberculatus\n",
      "│                       ├── Oulimnius tuberculatus larva\n",
      "│                       └── Oulimnius tuberculatus adult\n",
      "├── Mollusca\n",
      "│   └── Gastropoda\n",
      "│       └── Hygrophila\n",
      "│           └── Lymnaeidae\n",
      "│               └── Radix\n",
      "│                   └── Radix balthica\n",
      "└── Annelida\n",
      "    └── Clitellata\n",
      "        ├── Arhynchobdellida\n",
      "        │   └── Erpobdellidae\n",
      "        │       └── Erpobdella\n",
      "        │           └── Erpobdella octoculata\n",
      "        ├── Rhynchobdellida\n",
      "        │   └── Glossiphoniidae\n",
      "        │       └── Helobdella\n",
      "        │           └── Helobdella stagnalis\n",
      "        └── Tubificida\n",
      "            └── Naididae\n",
      "                ├── Spirosperma\n",
      "                │   └── Spirosperma ferox\n",
      "                └── Stylaria\n",
      "                    └── Stylaria lacustris\n"
     ]
    }
   ],
   "source": [
    "new_tree = tree.merge(tree_nolbl)\n",
    "new_tree.show()"
   ]
  },
  {
   "cell_type": "code",
   "execution_count": 27,
   "metadata": {},
   "outputs": [
    {
     "data": {
      "text/plain": [
       "{'As': 'Asellus',\n",
       " 'Asellus_aquaticus': 'Asellus aquaticus',\n",
       " 'Asellus aquaticus': 'Asellus aquaticus',\n",
       " 'Caenis_horaria': 'Caenis horaria',\n",
       " 'Caenis_luctuosa': 'Caenis luctuosa',\n",
       " 'Caenis_rivulorum': 'Caenis rivulorum',\n",
       " 'Baetidae': 'Baetidae',\n",
       " 'Cloeon_dipterum': 'Cloeon dipterum',\n",
       " 'Cyrnus_trimaculatus': 'Cyrnus trimaculatus',\n",
       " 'Oulimnius_tuberculatus': 'Oulimnius tuberculatus larva',\n",
       " 'Oulimnius_tuberculatus_adult': 'Oulimnius tuberculatus adult',\n",
       " 'Oulimnius_tuberculatus_larv': 'Oulimnius tuberculatus larva',\n",
       " 'Polycentropus_flavomaculatus': 'Polycentropus flavomaculatus',\n",
       " 'RaBa': 'Radix balthica',\n",
       " 'CaHo': 'Caenis horaria',\n",
       " 'test_label': 'Caenis horaria'}"
      ]
     },
     "execution_count": 27,
     "metadata": {},
     "output_type": "execute_result"
    }
   ],
   "source": [
    "new_tree.label_map"
   ]
  },
  {
   "cell_type": "code",
   "execution_count": 28,
   "metadata": {},
   "outputs": [
    {
     "data": {
      "text/plain": [
       "['Caenis horaria', 'Caenis horaria', 'Caenis horaria']"
      ]
     },
     "execution_count": 28,
     "metadata": {},
     "output_type": "execute_result"
    }
   ],
   "source": [
    "# New label, old label and node name are mapped to the same node\n",
    "new_tree.map([\"CaHo\", \"Caenis_horaria\", \"Caenis horaria\"], level=\"species\")"
   ]
  }
 ],
 "metadata": {
  "kernelspec": {
   "display_name": "ds",
   "language": "python",
   "name": "python3"
  },
  "language_info": {
   "codemirror_mode": {
    "name": "ipython",
    "version": 3
   },
   "file_extension": ".py",
   "mimetype": "text/x-python",
   "name": "python",
   "nbconvert_exporter": "python",
   "pygments_lexer": "ipython3",
   "version": "3.9.17"
  }
 },
 "nbformat": 4,
 "nbformat_minor": 2
}
